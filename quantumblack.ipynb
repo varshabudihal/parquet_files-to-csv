{
  "nbformat": 4,
  "nbformat_minor": 0,
  "metadata": {
    "colab": {
      "name": "quantumblack.ipynb",
      "provenance": [],
      "collapsed_sections": []
    },
    "kernelspec": {
      "name": "python3",
      "display_name": "Python 3"
    }
  },
  "cells": [
    {
      "cell_type": "code",
      "metadata": {
        "id": "BWLGRvEZD-bp",
        "colab_type": "code",
        "outputId": "d8bad1d7-5e02-48e2-8b15-27e75cd38a27",
        "colab": {
          "base_uri": "https://localhost:8080/",
          "height": 122
        }
      },
      "source": [
        "### upload dataset to Gdrive and then mount to Colab \n",
        "from google.colab import drive\n",
        "drive.mount('/content/gdrive')"
      ],
      "execution_count": 1,
      "outputs": [
        {
          "output_type": "stream",
          "text": [
            "Go to this URL in a browser: https://accounts.google.com/o/oauth2/auth?client_id=947318989803-6bn6qk8qdgf4n4g3pfee6491hc0brc4i.apps.googleusercontent.com&redirect_uri=urn%3aietf%3awg%3aoauth%3a2.0%3aoob&response_type=code&scope=email%20https%3a%2f%2fwww.googleapis.com%2fauth%2fdocs.test%20https%3a%2f%2fwww.googleapis.com%2fauth%2fdrive%20https%3a%2f%2fwww.googleapis.com%2fauth%2fdrive.photos.readonly%20https%3a%2f%2fwww.googleapis.com%2fauth%2fpeopleapi.readonly\n",
            "\n",
            "Enter your authorization code:\n",
            "··········\n",
            "Mounted at /content/gdrive\n"
          ],
          "name": "stdout"
        }
      ]
    },
    {
      "cell_type": "code",
      "metadata": {
        "id": "PDQEPRVpEJUe",
        "colab_type": "code",
        "outputId": "8758cf23-f374-4d0e-fe5f-fe3016f952cd",
        "colab": {
          "base_uri": "https://localhost:8080/",
          "height": 258
        }
      },
      "source": [
        "!pip install pandas-profiling\n",
        "from pathlib import Path\n",
        "import os, shutil\n",
        "import numpy as np\n",
        "import pandas as pd\n",
        "import pandas_profiling"
      ],
      "execution_count": 2,
      "outputs": [
        {
          "output_type": "stream",
          "text": [
            "Requirement already satisfied: pandas-profiling in /usr/local/lib/python3.6/dist-packages (1.4.1)\n",
            "Requirement already satisfied: six>=1.9 in /usr/local/lib/python3.6/dist-packages (from pandas-profiling) (1.12.0)\n",
            "Requirement already satisfied: jinja2>=2.8 in /usr/local/lib/python3.6/dist-packages (from pandas-profiling) (2.11.1)\n",
            "Requirement already satisfied: pandas>=0.19 in /usr/local/lib/python3.6/dist-packages (from pandas-profiling) (0.25.3)\n",
            "Requirement already satisfied: matplotlib>=1.4 in /usr/local/lib/python3.6/dist-packages (from pandas-profiling) (3.1.3)\n",
            "Requirement already satisfied: MarkupSafe>=0.23 in /usr/local/lib/python3.6/dist-packages (from jinja2>=2.8->pandas-profiling) (1.1.1)\n",
            "Requirement already satisfied: pytz>=2017.2 in /usr/local/lib/python3.6/dist-packages (from pandas>=0.19->pandas-profiling) (2018.9)\n",
            "Requirement already satisfied: python-dateutil>=2.6.1 in /usr/local/lib/python3.6/dist-packages (from pandas>=0.19->pandas-profiling) (2.6.1)\n",
            "Requirement already satisfied: numpy>=1.13.3 in /usr/local/lib/python3.6/dist-packages (from pandas>=0.19->pandas-profiling) (1.17.5)\n",
            "Requirement already satisfied: pyparsing!=2.0.4,!=2.1.2,!=2.1.6,>=2.0.1 in /usr/local/lib/python3.6/dist-packages (from matplotlib>=1.4->pandas-profiling) (2.4.6)\n",
            "Requirement already satisfied: kiwisolver>=1.0.1 in /usr/local/lib/python3.6/dist-packages (from matplotlib>=1.4->pandas-profiling) (1.1.0)\n",
            "Requirement already satisfied: cycler>=0.10 in /usr/local/lib/python3.6/dist-packages (from matplotlib>=1.4->pandas-profiling) (0.10.0)\n",
            "Requirement already satisfied: setuptools in /usr/local/lib/python3.6/dist-packages (from kiwisolver>=1.0.1->matplotlib>=1.4->pandas-profiling) (45.1.0)\n"
          ],
          "name": "stdout"
        }
      ]
    },
    {
      "cell_type": "code",
      "metadata": {
        "id": "RxaPDUwXFLI7",
        "colab_type": "code",
        "colab": {}
      },
      "source": [
        ""
      ],
      "execution_count": 0,
      "outputs": []
    },
    {
      "cell_type": "code",
      "metadata": {
        "id": "eh5JooLhFQ_z",
        "colab_type": "code",
        "colab": {}
      },
      "source": [
        "csv_path= './gdrive/My Drive/QuantumBlackData/vehicle.csv'"
      ],
      "execution_count": 0,
      "outputs": []
    },
    {
      "cell_type": "code",
      "metadata": {
        "id": "MNXNOduDFtyG",
        "colab_type": "code",
        "outputId": "2a48d08b-54c4-4ae0-bcbb-f07d32859e02",
        "colab": {
          "base_uri": "https://localhost:8080/",
          "height": 224
        }
      },
      "source": [
        "dataframe = pd.read_csv(csv_path)\n",
        "dataframe.head()"
      ],
      "execution_count": 4,
      "outputs": [
        {
          "output_type": "execute_result",
          "data": {
            "text/html": [
              "<div>\n",
              "<style scoped>\n",
              "    .dataframe tbody tr th:only-of-type {\n",
              "        vertical-align: middle;\n",
              "    }\n",
              "\n",
              "    .dataframe tbody tr th {\n",
              "        vertical-align: top;\n",
              "    }\n",
              "\n",
              "    .dataframe thead th {\n",
              "        text-align: right;\n",
              "    }\n",
              "</style>\n",
              "<table border=\"1\" class=\"dataframe\">\n",
              "  <thead>\n",
              "    <tr style=\"text-align: right;\">\n",
              "      <th></th>\n",
              "      <th>vehicle_id</th>\n",
              "      <th>year</th>\n",
              "      <th>make</th>\n",
              "      <th>Model</th>\n",
              "      <th>drivetrain</th>\n",
              "      <th>max_torque</th>\n",
              "      <th>max_horsepower</th>\n",
              "      <th>max_horsepower_rpm</th>\n",
              "      <th>max_torque_rpm</th>\n",
              "      <th>engine_displacement</th>\n",
              "      <th>fuel_type</th>\n",
              "      <th>fuel_tank_capacity</th>\n",
              "      <th>fuel_economy_city</th>\n",
              "      <th>fuel_economy_highway</th>\n",
              "      <th>cylinders</th>\n",
              "      <th>forced_induction</th>\n",
              "      <th>device_generation</th>\n",
              "    </tr>\n",
              "  </thead>\n",
              "  <tbody>\n",
              "    <tr>\n",
              "      <th>0</th>\n",
              "      <td>1000500</td>\n",
              "      <td>2016</td>\n",
              "      <td>Honda</td>\n",
              "      <td>Civic</td>\n",
              "      <td>2</td>\n",
              "      <td>174</td>\n",
              "      <td>140</td>\n",
              "      <td>6500</td>\n",
              "      <td>1500</td>\n",
              "      <td>1.799</td>\n",
              "      <td>1059</td>\n",
              "      <td>47</td>\n",
              "      <td>16.50</td>\n",
              "      <td>20.00</td>\n",
              "      <td>4</td>\n",
              "      <td>1054.0</td>\n",
              "      <td>5</td>\n",
              "    </tr>\n",
              "    <tr>\n",
              "      <th>1</th>\n",
              "      <td>1000501</td>\n",
              "      <td>2016</td>\n",
              "      <td>Jeep</td>\n",
              "      <td>Compass</td>\n",
              "      <td>4</td>\n",
              "      <td>350</td>\n",
              "      <td>171</td>\n",
              "      <td>3750</td>\n",
              "      <td>1250</td>\n",
              "      <td>1.956</td>\n",
              "      <td>1059</td>\n",
              "      <td>60</td>\n",
              "      <td>17.10</td>\n",
              "      <td>21.20</td>\n",
              "      <td>3</td>\n",
              "      <td>NaN</td>\n",
              "      <td>4</td>\n",
              "    </tr>\n",
              "    <tr>\n",
              "      <th>2</th>\n",
              "      <td>1000502</td>\n",
              "      <td>2016</td>\n",
              "      <td>Hyundai</td>\n",
              "      <td>Creta</td>\n",
              "      <td>2</td>\n",
              "      <td>260</td>\n",
              "      <td>126</td>\n",
              "      <td>4000</td>\n",
              "      <td>1500</td>\n",
              "      <td>1.582</td>\n",
              "      <td>1059</td>\n",
              "      <td>55</td>\n",
              "      <td>19.67</td>\n",
              "      <td>24.10</td>\n",
              "      <td>4</td>\n",
              "      <td>1054.0</td>\n",
              "      <td>3</td>\n",
              "    </tr>\n",
              "    <tr>\n",
              "      <th>3</th>\n",
              "      <td>1000503</td>\n",
              "      <td>2016</td>\n",
              "      <td>Skoda</td>\n",
              "      <td>Superb</td>\n",
              "      <td>2</td>\n",
              "      <td>250</td>\n",
              "      <td>177</td>\n",
              "      <td>5100</td>\n",
              "      <td>1750</td>\n",
              "      <td>1.798</td>\n",
              "      <td>1059</td>\n",
              "      <td>66</td>\n",
              "      <td>14.67</td>\n",
              "      <td>23.30</td>\n",
              "      <td>3</td>\n",
              "      <td>NaN</td>\n",
              "      <td>2</td>\n",
              "    </tr>\n",
              "    <tr>\n",
              "      <th>4</th>\n",
              "      <td>1000504</td>\n",
              "      <td>2017</td>\n",
              "      <td>Volkswagen</td>\n",
              "      <td>Passat</td>\n",
              "      <td>4</td>\n",
              "      <td>350</td>\n",
              "      <td>174</td>\n",
              "      <td>3600</td>\n",
              "      <td>1500</td>\n",
              "      <td>1.968</td>\n",
              "      <td>1059</td>\n",
              "      <td>66</td>\n",
              "      <td>17.42</td>\n",
              "      <td>20.43</td>\n",
              "      <td>4</td>\n",
              "      <td>NaN</td>\n",
              "      <td>4</td>\n",
              "    </tr>\n",
              "  </tbody>\n",
              "</table>\n",
              "</div>"
            ],
            "text/plain": [
              "   vehicle_id  year        make  ... cylinders  forced_induction  device_generation\n",
              "0     1000500  2016       Honda  ...         4            1054.0                  5\n",
              "1     1000501  2016        Jeep  ...         3               NaN                  4\n",
              "2     1000502  2016     Hyundai  ...         4            1054.0                  3\n",
              "3     1000503  2016       Skoda  ...         3               NaN                  2\n",
              "4     1000504  2017  Volkswagen  ...         4               NaN                  4\n",
              "\n",
              "[5 rows x 17 columns]"
            ]
          },
          "metadata": {
            "tags": []
          },
          "execution_count": 4
        }
      ]
    },
    {
      "cell_type": "code",
      "metadata": {
        "id": "AC1wEV2OFxCY",
        "colab_type": "code",
        "colab": {}
      },
      "source": [
        "base_path = './gdrive/My Drive/QuantumBlackData'"
      ],
      "execution_count": 0,
      "outputs": []
    },
    {
      "cell_type": "code",
      "metadata": {
        "id": "TybOM_ZUF_mn",
        "colab_type": "code",
        "outputId": "2141e073-e911-434e-c757-8878e0ba67df",
        "colab": {
          "base_uri": "https://localhost:8080/",
          "height": 34
        }
      },
      "source": [
        "os.listdir(base_path)"
      ],
      "execution_count": 6,
      "outputs": [
        {
          "output_type": "execute_result",
          "data": {
            "text/plain": [
              "['drive', 'trip', 'weather', 'vehicle.csv']"
            ]
          },
          "metadata": {
            "tags": []
          },
          "execution_count": 6
        }
      ]
    },
    {
      "cell_type": "code",
      "metadata": {
        "id": "uOUpOUriGClm",
        "colab_type": "code",
        "colab": {}
      },
      "source": [
        "data_dir = Path('./gdrive/My Drive/QuantumBlackData/drive')\n",
        "full_df = pd.concat(\n",
        "    pd.read_parquet(parquet_file)\n",
        "    for parquet_file in data_dir.glob('*.parquet')\n",
        ")\n",
        "full_df.to_csv('drive.csv')"
      ],
      "execution_count": 0,
      "outputs": []
    },
    {
      "cell_type": "code",
      "metadata": {
        "id": "Nr0QYzT1foxL",
        "colab_type": "code",
        "colab": {}
      },
      "source": [
        "!cp drive.csv './gdrive/My Drive/QuantumBlackData'"
      ],
      "execution_count": 0,
      "outputs": []
    },
    {
      "cell_type": "code",
      "metadata": {
        "id": "wdZtcaPhb2RB",
        "colab_type": "code",
        "colab": {}
      },
      "source": [
        "drive_df = pd.read_csv('./gdrive/My Drive/QuantumBlackData/drive.csv')"
      ],
      "execution_count": 0,
      "outputs": []
    },
    {
      "cell_type": "code",
      "metadata": {
        "id": "z3TOPWwSxtR0",
        "colab_type": "code",
        "colab": {
          "base_uri": "https://localhost:8080/",
          "height": 391
        },
        "outputId": "bf811a1a-5507-41b8-a566-5807a9729c4d"
      },
      "source": [
        "drive_df.head()"
      ],
      "execution_count": 15,
      "outputs": [
        {
          "output_type": "execute_result",
          "data": {
            "text/html": [
              "<div>\n",
              "<style scoped>\n",
              "    .dataframe tbody tr th:only-of-type {\n",
              "        vertical-align: middle;\n",
              "    }\n",
              "\n",
              "    .dataframe tbody tr th {\n",
              "        vertical-align: top;\n",
              "    }\n",
              "\n",
              "    .dataframe thead th {\n",
              "        text-align: right;\n",
              "    }\n",
              "</style>\n",
              "<table border=\"1\" class=\"dataframe\">\n",
              "  <thead>\n",
              "    <tr style=\"text-align: right;\">\n",
              "      <th></th>\n",
              "      <th>Unnamed: 0</th>\n",
              "      <th>vehicle_id</th>\n",
              "      <th>trip_id</th>\n",
              "      <th>datetime</th>\n",
              "      <th>velocity</th>\n",
              "      <th>accel_x</th>\n",
              "      <th>accel_y</th>\n",
              "      <th>accel_z</th>\n",
              "      <th>engine_coolant_temp</th>\n",
              "      <th>eng_load</th>\n",
              "      <th>fuel_level</th>\n",
              "      <th>iat</th>\n",
              "      <th>rpm</th>\n",
              "    </tr>\n",
              "  </thead>\n",
              "  <tbody>\n",
              "    <tr>\n",
              "      <th>0</th>\n",
              "      <td>0</td>\n",
              "      <td>1000515</td>\n",
              "      <td>db3c08b01205459294bbc91e3f7dfeb6</td>\n",
              "      <td>2017-01-06 23:00:00</td>\n",
              "      <td>0.00</td>\n",
              "      <td>50.0</td>\n",
              "      <td>65.13</td>\n",
              "      <td>87.92</td>\n",
              "      <td>150.70</td>\n",
              "      <td>192.88</td>\n",
              "      <td>118.66</td>\n",
              "      <td>95.0</td>\n",
              "      <td>2107.44</td>\n",
              "    </tr>\n",
              "    <tr>\n",
              "      <th>1</th>\n",
              "      <td>1</td>\n",
              "      <td>1000515</td>\n",
              "      <td>db3c08b01205459294bbc91e3f7dfeb6</td>\n",
              "      <td>2017-01-06 23:00:01</td>\n",
              "      <td>47.49</td>\n",
              "      <td>51.0</td>\n",
              "      <td>72.34</td>\n",
              "      <td>83.78</td>\n",
              "      <td>154.76</td>\n",
              "      <td>196.04</td>\n",
              "      <td>116.69</td>\n",
              "      <td>100.0</td>\n",
              "      <td>2119.17</td>\n",
              "    </tr>\n",
              "    <tr>\n",
              "      <th>2</th>\n",
              "      <td>2</td>\n",
              "      <td>1000515</td>\n",
              "      <td>db3c08b01205459294bbc91e3f7dfeb6</td>\n",
              "      <td>2017-01-06 23:00:02</td>\n",
              "      <td>57.94</td>\n",
              "      <td>50.0</td>\n",
              "      <td>69.20</td>\n",
              "      <td>87.73</td>\n",
              "      <td>165.50</td>\n",
              "      <td>196.01</td>\n",
              "      <td>105.46</td>\n",
              "      <td>90.0</td>\n",
              "      <td>2112.32</td>\n",
              "    </tr>\n",
              "    <tr>\n",
              "      <th>3</th>\n",
              "      <td>3</td>\n",
              "      <td>1000515</td>\n",
              "      <td>db3c08b01205459294bbc91e3f7dfeb6</td>\n",
              "      <td>2017-01-06 23:00:03</td>\n",
              "      <td>57.50</td>\n",
              "      <td>48.0</td>\n",
              "      <td>70.83</td>\n",
              "      <td>84.95</td>\n",
              "      <td>157.32</td>\n",
              "      <td>193.31</td>\n",
              "      <td>110.35</td>\n",
              "      <td>90.0</td>\n",
              "      <td>2092.94</td>\n",
              "    </tr>\n",
              "    <tr>\n",
              "      <th>4</th>\n",
              "      <td>4</td>\n",
              "      <td>1000515</td>\n",
              "      <td>db3c08b01205459294bbc91e3f7dfeb6</td>\n",
              "      <td>2017-01-06 23:00:04</td>\n",
              "      <td>52.29</td>\n",
              "      <td>47.0</td>\n",
              "      <td>70.22</td>\n",
              "      <td>92.90</td>\n",
              "      <td>151.00</td>\n",
              "      <td>189.49</td>\n",
              "      <td>104.25</td>\n",
              "      <td>97.0</td>\n",
              "      <td>2117.87</td>\n",
              "    </tr>\n",
              "  </tbody>\n",
              "</table>\n",
              "</div>"
            ],
            "text/plain": [
              "   Unnamed: 0  vehicle_id  ...    iat      rpm\n",
              "0           0     1000515  ...   95.0  2107.44\n",
              "1           1     1000515  ...  100.0  2119.17\n",
              "2           2     1000515  ...   90.0  2112.32\n",
              "3           3     1000515  ...   90.0  2092.94\n",
              "4           4     1000515  ...   97.0  2117.87\n",
              "\n",
              "[5 rows x 13 columns]"
            ]
          },
          "metadata": {
            "tags": []
          },
          "execution_count": 15
        }
      ]
    },
    {
      "cell_type": "code",
      "metadata": {
        "id": "s_WbH_CRGy9y",
        "colab_type": "code",
        "colab": {}
      },
      "source": [
        ""
      ],
      "execution_count": 0,
      "outputs": []
    },
    {
      "cell_type": "code",
      "metadata": {
        "id": "3OiNUmHPG460",
        "colab_type": "code",
        "colab": {}
      },
      "source": [
        ""
      ],
      "execution_count": 0,
      "outputs": []
    },
    {
      "cell_type": "code",
      "metadata": {
        "id": "NO3TLIr9T368",
        "colab_type": "code",
        "colab": {}
      },
      "source": [
        "\n"
      ],
      "execution_count": 0,
      "outputs": []
    },
    {
      "cell_type": "code",
      "metadata": {
        "id": "rY62oB3EcLZM",
        "colab_type": "code",
        "colab": {}
      },
      "source": [
        ""
      ],
      "execution_count": 0,
      "outputs": []
    }
  ]
}